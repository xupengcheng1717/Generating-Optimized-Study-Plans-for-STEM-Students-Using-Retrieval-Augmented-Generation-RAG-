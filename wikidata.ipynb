{
 "cells": [
  {
   "cell_type": "code",
   "execution_count": 1,
   "metadata": {},
   "outputs": [
    {
     "name": "stdout",
     "output_type": "stream",
     "text": [
      "The length of Wikipedia STEM articles\n",
      "131049\n",
      "The shape of Wikipedia STEM articles\n",
      "(131049, 3)\n",
      "text     object\n",
      "url      object\n",
      "title    object\n",
      "dtype: object\n"
     ]
    },
    {
     "data": {
      "text/html": [
       "<div>\n",
       "<style scoped>\n",
       "    .dataframe tbody tr th:only-of-type {\n",
       "        vertical-align: middle;\n",
       "    }\n",
       "\n",
       "    .dataframe tbody tr th {\n",
       "        vertical-align: top;\n",
       "    }\n",
       "\n",
       "    .dataframe thead th {\n",
       "        text-align: right;\n",
       "    }\n",
       "</style>\n",
       "<table border=\"1\" class=\"dataframe\">\n",
       "  <thead>\n",
       "    <tr style=\"text-align: right;\">\n",
       "      <th></th>\n",
       "      <th>text</th>\n",
       "      <th>url</th>\n",
       "      <th>title</th>\n",
       "    </tr>\n",
       "  </thead>\n",
       "  <tbody>\n",
       "    <tr>\n",
       "      <th>0</th>\n",
       "      <td>Becurtovirus is a genus of viruses, in the fam...</td>\n",
       "      <td>https://en.wikipedia.org/wiki/Becurtovirus</td>\n",
       "      <td>Becurtovirus</td>\n",
       "    </tr>\n",
       "    <tr>\n",
       "      <th>1</th>\n",
       "      <td>Cyprinivirus is a genus of viruses in the orde...</td>\n",
       "      <td>https://en.wikipedia.org/wiki/Cyprinivirus</td>\n",
       "      <td>Cyprinivirus</td>\n",
       "    </tr>\n",
       "    <tr>\n",
       "      <th>2</th>\n",
       "      <td>Glossinavirus is a genus of viruses, in the fa...</td>\n",
       "      <td>https://en.wikipedia.org/wiki/Glossinavirus</td>\n",
       "      <td>Glossinavirus</td>\n",
       "    </tr>\n",
       "    <tr>\n",
       "      <th>3</th>\n",
       "      <td>Ichtadenovirus is a genus of viruses, in the f...</td>\n",
       "      <td>https://en.wikipedia.org/wiki/Ichtadenovirus</td>\n",
       "      <td>Ichtadenovirus</td>\n",
       "    </tr>\n",
       "    <tr>\n",
       "      <th>4</th>\n",
       "      <td>Lambdatorquevirus is a genus of viruses, in th...</td>\n",
       "      <td>https://en.wikipedia.org/wiki/Lambdatorquevirus</td>\n",
       "      <td>Lambdatorquevirus</td>\n",
       "    </tr>\n",
       "  </tbody>\n",
       "</table>\n",
       "</div>"
      ],
      "text/plain": [
       "                                                text  \\\n",
       "0  Becurtovirus is a genus of viruses, in the fam...   \n",
       "1  Cyprinivirus is a genus of viruses in the orde...   \n",
       "2  Glossinavirus is a genus of viruses, in the fa...   \n",
       "3  Ichtadenovirus is a genus of viruses, in the f...   \n",
       "4  Lambdatorquevirus is a genus of viruses, in th...   \n",
       "\n",
       "                                               url              title  \n",
       "0       https://en.wikipedia.org/wiki/Becurtovirus       Becurtovirus  \n",
       "1       https://en.wikipedia.org/wiki/Cyprinivirus       Cyprinivirus  \n",
       "2      https://en.wikipedia.org/wiki/Glossinavirus      Glossinavirus  \n",
       "3     https://en.wikipedia.org/wiki/Ichtadenovirus     Ichtadenovirus  \n",
       "4  https://en.wikipedia.org/wiki/Lambdatorquevirus  Lambdatorquevirus  "
      ]
     },
     "execution_count": 1,
     "metadata": {},
     "output_type": "execute_result"
    }
   ],
   "source": [
    "import pandas as pd\n",
    "from pathlib import Path\n",
    "\n",
    "data_dir = Path(r\"C:\\Users\\Lenovo\\Downloads\\BT4222 PROJ\")\n",
    "\n",
    "# Gather all Parquet files in the directory\n",
    "files = list(data_dir.glob(\"*.parquet\"))\n",
    "\n",
    "# Load each Parquet file and concatenate them into a single DataFrame\n",
    "df = pd.concat([pd.read_parquet(file) for file in files], ignore_index=True)\n",
    "\n",
    "# Display the first few rows to understand the format\n",
    "print(\"The length of Wikipedia STEM articles\")\n",
    "print(len(df))\n",
    "print(\"The shape of Wikipedia STEM articles\")\n",
    "print(df.shape)\n",
    "print(df.dtypes)\n",
    "df.head()"
   ]
  },
  {
   "cell_type": "code",
   "execution_count": 2,
   "metadata": {},
   "outputs": [
    {
     "name": "stdout",
     "output_type": "stream",
     "text": [
      "Duplicate rows:\n",
      "Empty DataFrame\n",
      "Columns: [text, url, title]\n",
      "Index: []\n",
      "Number of duplicate rows: 0\n"
     ]
    }
   ],
   "source": [
    "# Check for duplicate rows\n",
    "duplicates = df[df.duplicated()]\n",
    "\n",
    "# Display duplicate rows if any\n",
    "print(\"Duplicate rows:\")\n",
    "print(duplicates)\n",
    "\n",
    "# Count of duplicate rows\n",
    "print(\"Number of duplicate rows:\", len(duplicates))"
   ]
  },
  {
   "cell_type": "code",
   "execution_count": 3,
   "metadata": {},
   "outputs": [
    {
     "name": "stdout",
     "output_type": "stream",
     "text": [
      "Number of missing text: 0\n",
      "Number of empty text: 0\n"
     ]
    }
   ],
   "source": [
    "missing_descriptions = df['text'].isnull().sum()\n",
    "empty_descriptions = (df['text'].str.strip() == '').sum()\n",
    "print(\"Number of missing text:\", missing_descriptions)\n",
    "print(\"Number of empty text:\", empty_descriptions)"
   ]
  },
  {
   "cell_type": "code",
   "execution_count": 4,
   "metadata": {},
   "outputs": [
    {
     "name": "stdout",
     "output_type": "stream",
     "text": [
      "Word Count Statistics for Description Column:\n",
      "count    131049.00000\n",
      "mean        707.08506\n",
      "std        1139.51811\n",
      "min          12.00000\n",
      "25%         146.00000\n",
      "50%         323.00000\n",
      "75%         799.00000\n",
      "max       68741.00000\n",
      "Name: text, dtype: float64\n"
     ]
    },
    {
     "data": {
      "image/png": "[encoded data removed]",
      "text/plain": [
       "<Figure size 640x480 with 1 Axes>"
      ]
     },
     "metadata": {},
     "output_type": "display_data"
    }
   ],
   "source": [
    "import pandas as pd\n",
    "import matplotlib.pyplot as plt\n",
    "from collections import Counter\n",
    "import re\n",
    "word_counts = df['text'].dropna().apply(lambda x: len(x.split()))\n",
    "\n",
    "# Display the word count statistics\n",
    "word_count_stats = word_counts.describe()\n",
    "print(\"Word Count Statistics for Description Column:\")\n",
    "print(word_count_stats)\n",
    "word_counts = df['text'].dropna().apply(lambda x: len(x.split()))\n",
    "plt.hist(word_counts, bins=30, color='lightgreen', edgecolor='black')\n",
    "plt.title('Distribution of Word Counts in Descriptions')\n",
    "plt.xlabel('Word Count')\n",
    "plt.ylabel('Frequency')\n",
    "plt.show()"
   ]
  },
  {
   "cell_type": "code",
   "execution_count": 5,
   "metadata": {},
   "outputs": [],
   "source": [
    "df.to_csv('wikidata.csv', index=False)"
   ]
  }
 ],
 "metadata": {
  "kernelspec": {
   "display_name": "Python 3",
   "language": "python",
   "name": "python3"
  },
  "language_info": {
   "codemirror_mode": {
    "name": "ipython",
    "version": 3
   },
   "file_extension": ".py",
   "mimetype": "text/x-python",
   "name": "python",
   "nbconvert_exporter": "python",
   "pygments_lexer": "ipython3",
   "version": "3.12.2"
  }
 },
 "nbformat": 4,
 "nbformat_minor": 2
}
