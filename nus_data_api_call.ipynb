{
 "cells": [
  {
   "cell_type": "code",
   "execution_count": 2,
   "metadata": {},
   "outputs": [
    {
     "name": "stdout",
     "output_type": "stream",
     "text": [
      "Data successfully written to computing_courses.csv\n"
     ]
    }
   ],
   "source": [
    "import requests\n",
    "import csv\n",
    "\n",
    "# Specify the academic year\n",
    "acad_year = \"2023-2024\"  # You can change this to the academic year you need\n",
    "\n",
    "# Base URL for NUSMods API\n",
    "base_url = f\"https://api.nusmods.com/v2/{acad_year}/moduleInfo.json\"\n",
    "\n",
    "# Fetch data from the API\n",
    "response = requests.get(base_url)\n",
    "\n",
    "# Check if the request was successful\n",
    "if response.status_code == 200:\n",
    "    data = response.json()\n",
    "\n",
    "    # Filter modules by faculty \"Computing\"\n",
    "    computing_modules = [module for module in data if module[\"faculty\"] == \"Computing\" or module[\"department\"] == \"Statistics and Data Science\"]\n",
    "\n",
    "    # Specify the CSV file name\n",
    "    csv_filename = \"Computing&StatisticAnalysis_courses.csv\"\n",
    "\n",
    "    # Define the column headers for the CSV file\n",
    "    csv_columns = [\"Title\", \"Description\", \"Department\", \"Faculty\"]\n",
    "\n",
    "    # Write the filtered data to a CSV file\n",
    "    with open(csv_filename, mode=\"w\", newline=\"\", encoding=\"utf-8\") as file:\n",
    "        writer = csv.DictWriter(file, fieldnames=csv_columns)\n",
    "\n",
    "        # Write the header\n",
    "        writer.writeheader()\n",
    "\n",
    "        # Write the module information\n",
    "        for module in computing_modules:\n",
    "            writer.writerow({\n",
    "                \"Title\": module[\"title\"],\n",
    "                \"Description\": module[\"description\"],\n",
    "                \"Department\": module[\"department\"],\n",
    "                \"Faculty\": module[\"faculty\"]\n",
    "            })\n",
    "\n",
    "    print(f\"Data successfully written to {csv_filename}\")\n",
    "\n",
    "else:\n",
    "    print(f\"Failed to retrieve data. Status code: {response.status_code}\")\n"
   ]
  }
 ],
 "metadata": {
  "kernelspec": {
   "display_name": "Python 3",
   "language": "python",
   "name": "python3"
  },
  "language_info": {
   "codemirror_mode": {
    "name": "ipython",
    "version": 3
   },
   "file_extension": ".py",
   "mimetype": "text/x-python",
   "name": "python",
   "nbconvert_exporter": "python",
   "pygments_lexer": "ipython3",
   "version": "3.12.2"
  }
 },
 "nbformat": 4,
 "nbformat_minor": 2
}
